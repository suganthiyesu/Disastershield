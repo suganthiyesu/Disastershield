{
 "cells": [
  {
   "cell_type": "code",
   "execution_count": 1,
   "id": "b9498123-8c28-4407-bda8-6883acf3da3d",
   "metadata": {},
   "outputs": [
    {
     "name": "stdout",
     "output_type": "stream",
     "text": [
      "Random Forest Accuracy: 99.50%\n",
      "Random Forest Classification Report:\n",
      "               precision    recall  f1-score   support\n",
      "\n",
      "        High       1.00      1.00      1.00       157\n",
      "         Low       0.00      0.00      0.00         1\n",
      "      Medium       0.98      1.00      0.99        42\n",
      "\n",
      "    accuracy                           0.99       200\n",
      "   macro avg       0.66      0.67      0.66       200\n",
      "weighted avg       0.99      0.99      0.99       200\n",
      "\n",
      "Model saved as random_forest_model.pkl\n",
      "Predicted Disaster Risk Level: Medium\n"
     ]
    },
    {
     "name": "stderr",
     "output_type": "stream",
     "text": [
      "C:\\Users\\user\\AppData\\Local\\Programs\\Python\\Python312\\Lib\\site-packages\\sklearn\\metrics\\_classification.py:1531: UndefinedMetricWarning: Precision is ill-defined and being set to 0.0 in labels with no predicted samples. Use `zero_division` parameter to control this behavior.\n",
      "  _warn_prf(average, modifier, f\"{metric.capitalize()} is\", len(result))\n",
      "C:\\Users\\user\\AppData\\Local\\Programs\\Python\\Python312\\Lib\\site-packages\\sklearn\\metrics\\_classification.py:1531: UndefinedMetricWarning: Precision is ill-defined and being set to 0.0 in labels with no predicted samples. Use `zero_division` parameter to control this behavior.\n",
      "  _warn_prf(average, modifier, f\"{metric.capitalize()} is\", len(result))\n",
      "C:\\Users\\user\\AppData\\Local\\Programs\\Python\\Python312\\Lib\\site-packages\\sklearn\\metrics\\_classification.py:1531: UndefinedMetricWarning: Precision is ill-defined and being set to 0.0 in labels with no predicted samples. Use `zero_division` parameter to control this behavior.\n",
      "  _warn_prf(average, modifier, f\"{metric.capitalize()} is\", len(result))\n"
     ]
    }
   ],
   "source": [
    "import pandas as pd\n",
    "import numpy as np\n",
    "import joblib\n",
    "from sklearn.model_selection import train_test_split\n",
    "from sklearn.ensemble import RandomForestClassifier\n",
    "from sklearn.preprocessing import LabelEncoder\n",
    "from sklearn.metrics import accuracy_score, classification_report\n",
    "\n",
    "# Load dataset\n",
    "df = pd.read_csv(\"disaster_management_dataset.csv\")\n",
    "\n",
    "# Separate features and target\n",
    "X = df.drop(columns=[\"Disaster_Risk_Level\"])\n",
    "y = df[\"Disaster_Risk_Level\"]\n",
    "\n",
    "# Encode target labels\n",
    "label_encoder = LabelEncoder()\n",
    "y_encoded = label_encoder.fit_transform(y)\n",
    "\n",
    "# Save label encoder\n",
    "joblib.dump(label_encoder, \"label_encoder.pkl\")\n",
    "\n",
    "# Split dataset into training and testing sets\n",
    "X_train, X_test, y_train, y_test = train_test_split(X, y_encoded, test_size=0.2, random_state=42)\n",
    "\n",
    "# Train Random Forest model\n",
    "rf_model = RandomForestClassifier(n_estimators=100, random_state=42)\n",
    "rf_model.fit(X_train, y_train)\n",
    "\n",
    "# Make predictions\n",
    "rf_pred = rf_model.predict(X_test)\n",
    "\n",
    "# Evaluate model\n",
    "rf_accuracy = accuracy_score(y_test, rf_pred)\n",
    "print(f\"Random Forest Accuracy: {rf_accuracy * 100:.2f}%\")\n",
    "print(\"Random Forest Classification Report:\\n\", classification_report(y_test, rf_pred, target_names=label_encoder.classes_))\n",
    "\n",
    "# Save trained model\n",
    "joblib.dump(rf_model, \"random_forest_model.pkl\")\n",
    "print(\"Model saved as random_forest_model.pkl\")\n",
    "\n",
    "# --- Prediction Script ---\n",
    "\n",
    "def predict_disaster(input_data):\n",
    "    \"\"\"Load model and make predictions based on input data.\"\"\"\n",
    "    model = joblib.load(\"random_forest_model.pkl\")\n",
    "    label_encoder = joblib.load(\"label_encoder.pkl\")\n",
    "    \n",
    "    input_df = pd.DataFrame([input_data])\n",
    "    prediction = model.predict(input_df)\n",
    "    predicted_label = label_encoder.inverse_transform(prediction)\n",
    "    return predicted_label[0]\n",
    "\n",
    "# Example input data\n",
    "sample_input = {\n",
    "    \"Temperature (°C)\": 30.5,\n",
    "    \"Humidity (%)\": 65.0,\n",
    "    \"Rainfall (mm)\": 120.0,\n",
    "    \"Wind Speed (km/h)\": 80.0,\n",
    "    \"Seismic Activity (Richter scale)\": 3.2,\n",
    "    \"Air Pressure (hPa)\": 1015.0,\n",
    "    \"Soil Moisture (%)\": 45.0,\n",
    "    \"River Water Level (m)\": 7.0,\n",
    "    \"CO2 Levels (ppm)\": 400.0,\n",
    "    \"Lightning Strikes (count per hour)\": 5\n",
    "}\n",
    "\n",
    "# Make a prediction\n",
    "predicted_risk = predict_disaster(sample_input)\n",
    "print(f\"Predicted Disaster Risk Level: {predicted_risk}\")"
   ]
  },
  {
   "cell_type": "code",
   "execution_count": null,
   "id": "86370944-6eb2-4c7e-b2dd-4f43454887d4",
   "metadata": {},
   "outputs": [],
   "source": []
  }
 ],
 "metadata": {
  "kernelspec": {
   "display_name": "Python 3 (ipykernel)",
   "language": "python",
   "name": "python3"
  },
  "language_info": {
   "codemirror_mode": {
    "name": "ipython",
    "version": 3
   },
   "file_extension": ".py",
   "mimetype": "text/x-python",
   "name": "python",
   "nbconvert_exporter": "python",
   "pygments_lexer": "ipython3",
   "version": "3.12.0"
  }
 },
 "nbformat": 4,
 "nbformat_minor": 5
}
