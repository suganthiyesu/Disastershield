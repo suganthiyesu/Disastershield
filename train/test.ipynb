{
 "cells": [
  {
   "cell_type": "code",
   "execution_count": 4,
   "id": "5f215910-6e7d-4a9e-a6d1-1490f5943c5f",
   "metadata": {},
   "outputs": [
    {
     "name": "stdout",
     "output_type": "stream",
     "text": [
      "Predicted Disaster Risk Level: High\n"
     ]
    }
   ],
   "source": [
    "import pandas as pd\n",
    "import joblib\n",
    "\n",
    "def predict_disaster(input_data):\n",
    "    \"\"\"Load model and make predictions based on input data.\"\"\"\n",
    "    model = joblib.load(\"random_forest_model.pkl\")\n",
    "    label_encoder = joblib.load(\"label_encoder.pkl\")\n",
    "    \n",
    "    input_df = pd.DataFrame([input_data])\n",
    "    prediction = model.predict(input_df)\n",
    "    predicted_label = label_encoder.inverse_transform(prediction)\n",
    "    return predicted_label[0]\n",
    "\n",
    "# Example input data\n",
    "sample_input = {\n",
    "    \"Temperature (°C)\": 26.5,\n",
    "    \"Humidity (%)\": 34,\n",
    "    \"Rainfall (mm)\": 78.0,\n",
    "    \"Wind Speed (km/h)\": 100.0,\n",
    "    \"Seismic Activity (Richter scale)\": 5.11,\n",
    "    \"Air Pressure (hPa)\": 978.0,\n",
    "    \"Soil Moisture (%)\": 64.0,\n",
    "    \"River Water Level (m)\": 0.7,\n",
    "    \"CO2 Levels (ppm)\": 400.0,\n",
    "    \"Lightning Strikes (count per hour)\": 5\n",
    "}\n",
    "\n",
    "# Make a prediction\n",
    "predicted_risk = predict_disaster(sample_input)\n",
    "print(f\"Predicted Disaster Risk Level: {predicted_risk}\")"
   ]
  },
  {
   "cell_type": "code",
   "execution_count": null,
   "id": "91e6056b-d618-4a55-9bc6-0fca71db77b4",
   "metadata": {},
   "outputs": [],
   "source": []
  }
 ],
 "metadata": {
  "kernelspec": {
   "display_name": "Python 3 (ipykernel)",
   "language": "python",
   "name": "python3"
  },
  "language_info": {
   "codemirror_mode": {
    "name": "ipython",
    "version": 3
   },
   "file_extension": ".py",
   "mimetype": "text/x-python",
   "name": "python",
   "nbconvert_exporter": "python",
   "pygments_lexer": "ipython3",
   "version": "3.12.0"
  }
 },
 "nbformat": 4,
 "nbformat_minor": 5
}
